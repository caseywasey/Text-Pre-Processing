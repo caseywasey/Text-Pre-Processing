{
 "cells": [
  {
   "cell_type": "markdown",
   "metadata": {},
   "source": [
    "# Text Pre Process Pipeline\n",
    "\n",
    "## A quick example that can be easily applied to dataframes in machine learning problems using Python V3.0"
   ]
  },
  {
   "cell_type": "code",
   "execution_count": 39,
   "metadata": {},
   "outputs": [],
   "source": [
    "# Import necessary packages\n",
    "\n",
    "import numpy as np\n",
    "import pandas as pd\n",
    "from scipy import sparse as sp\n",
    "\n",
    "from sklearn.feature_extraction.text import CountVectorizer\n",
    "from sklearn.feature_extraction.text import TfidfTransformer\n",
    "\n",
    "from sklearn.pipeline import Pipeline\n",
    "from sklearn.preprocessing import LabelEncoder\n",
    "\n",
    "from sklearn.feature_selection import chi2\n",
    "from sklearn.feature_selection import SelectKBest"
   ]
  },
  {
   "cell_type": "code",
   "execution_count": 40,
   "metadata": {
    "collapsed": true
   },
   "outputs": [],
   "source": [
    "# Import Natural language Toolkit example data and 'stopwords' set\n",
    "\n",
    "from nltk.corpus import movie_reviews\n",
    "from nltk.corpus import stopwords"
   ]
  },
  {
   "cell_type": "markdown",
   "metadata": {},
   "source": [
    "### Get the _Movie Reviews_ Data into a Pandas DataFrame"
   ]
  },
  {
   "cell_type": "code",
   "execution_count": 41,
   "metadata": {
    "collapsed": true
   },
   "outputs": [],
   "source": [
    "docs = [(str(movie_reviews.raw(fileid)), category)\n",
    "             for category in movie_reviews.categories()\n",
    "             for fileid in movie_reviews.fileids(category)]"
   ]
  },
  {
   "cell_type": "code",
   "execution_count": 42,
   "metadata": {
    "collapsed": true
   },
   "outputs": [],
   "source": [
    "reviews = pd.DataFrame(docs)\n",
    "reviews.columns=('X','y')\n",
    "\n",
    "# The Category of a movie review is initially 'neg' or 'pos', changing here to 0 and 1, respectively\n",
    "\n",
    "bin_encoder=LabelEncoder()\n",
    "reviews.y=bin_encoder.fit_transform(reviews.y)"
   ]
  },
  {
   "cell_type": "code",
   "execution_count": 43,
   "metadata": {},
   "outputs": [
    {
     "data": {
      "text/html": [
       "<div>\n",
       "<style>\n",
       "    .dataframe thead tr:only-child th {\n",
       "        text-align: right;\n",
       "    }\n",
       "\n",
       "    .dataframe thead th {\n",
       "        text-align: left;\n",
       "    }\n",
       "\n",
       "    .dataframe tbody tr th {\n",
       "        vertical-align: top;\n",
       "    }\n",
       "</style>\n",
       "<table border=\"1\" class=\"dataframe\">\n",
       "  <thead>\n",
       "    <tr style=\"text-align: right;\">\n",
       "      <th></th>\n",
       "      <th>X</th>\n",
       "      <th>y</th>\n",
       "    </tr>\n",
       "  </thead>\n",
       "  <tbody>\n",
       "    <tr>\n",
       "      <th>0</th>\n",
       "      <td>plot : two teen couples go to a church party ,...</td>\n",
       "      <td>0</td>\n",
       "    </tr>\n",
       "    <tr>\n",
       "      <th>1</th>\n",
       "      <td>the happy bastard's quick movie review \\ndamn ...</td>\n",
       "      <td>0</td>\n",
       "    </tr>\n",
       "    <tr>\n",
       "      <th>2</th>\n",
       "      <td>it is movies like these that make a jaded movi...</td>\n",
       "      <td>0</td>\n",
       "    </tr>\n",
       "    <tr>\n",
       "      <th>3</th>\n",
       "      <td>\" quest for camelot \" is warner bros . ' firs...</td>\n",
       "      <td>0</td>\n",
       "    </tr>\n",
       "    <tr>\n",
       "      <th>4</th>\n",
       "      <td>synopsis : a mentally unstable man undergoing ...</td>\n",
       "      <td>0</td>\n",
       "    </tr>\n",
       "  </tbody>\n",
       "</table>\n",
       "</div>"
      ],
      "text/plain": [
       "                                                   X  y\n",
       "0  plot : two teen couples go to a church party ,...  0\n",
       "1  the happy bastard's quick movie review \\ndamn ...  0\n",
       "2  it is movies like these that make a jaded movi...  0\n",
       "3   \" quest for camelot \" is warner bros . ' firs...  0\n",
       "4  synopsis : a mentally unstable man undergoing ...  0"
      ]
     },
     "execution_count": 43,
     "metadata": {},
     "output_type": "execute_result"
    }
   ],
   "source": [
    "reviews.head(5)"
   ]
  },
  {
   "cell_type": "markdown",
   "metadata": {},
   "source": [
    "### Edit the _stopwords_ to include more words\n",
    "#### (This might be useful to filter out certain words you don't want included, but may not necessarily be in the default 'stopwords' list)"
   ]
  },
  {
   "cell_type": "code",
   "execution_count": 44,
   "metadata": {
    "collapsed": true
   },
   "outputs": [],
   "source": [
    "mystopwords = (stopwords.words())\n",
    "custom_stopwords = ('the','an','a','my','0','''''','!','nt','?','??','?!','%','&','UTC','(UTC)')"
   ]
  },
  {
   "cell_type": "markdown",
   "metadata": {},
   "source": [
    "## Text Pre Process Pipeline\n",
    "\n",
    "+ ** 'count vectorizer' ** : Transformation from sentences to all lower-case words, stopwords removed, vectorized\n",
    "+ ** 'chi2score' ** : Transformation that selects top k features related to the target based on ChiSquare test statistics\n",
    "+ ** 'tf_transformer' ** : Transformation that transforms the vector of top features to tf-idf representation"
   ]
  },
  {
   "cell_type": "code",
   "execution_count": 45,
   "metadata": {},
   "outputs": [],
   "source": [
    "# Using a variable for the top k features to be selected\n",
    "top_k_features=1000\n",
    "\n",
    "\n",
    "text_processor = Pipeline([\n",
    "    ('count vectorizer',CountVectorizer(stop_words=mystopwords,lowercase=True)),\n",
    "    ('chi2score',SelectKBest(chi2,k=top_k_features)),\n",
    "    ('tf_transformer',TfidfTransformer(use_idf=True))\n",
    "])"
   ]
  },
  {
   "cell_type": "markdown",
   "metadata": {},
   "source": [
    "### fit_transform Versus fit Versus Transform"
   ]
  },
  {
   "cell_type": "code",
   "execution_count": 46,
   "metadata": {
    "collapsed": true
   },
   "outputs": [],
   "source": [
    "proc_text = text_processor.fit_transform(reviews.X,reviews.y)\n",
    "proc_fit = text_processor.fit(reviews.X,reviews.y)"
   ]
  },
  {
   "cell_type": "code",
   "execution_count": 47,
   "metadata": {},
   "outputs": [
    {
     "name": "stdout",
     "output_type": "stream",
     "text": [
      "  (0, 809)\t0.164433165993\n",
      "  (0, 991)\t0.0743296334105\n",
      "  (0, 432)\t0.106734979944\n",
      "  (0, 648)\t0.114679040775\n",
      "  (0, 279)\t0.0985524595764\n",
      "  (0, 232)\t0.100782880888\n",
      "  (0, 656)\t0.122673219235\n",
      "  (0, 426)\t0.142920192024\n",
      "  (0, 625)\t0.0664163951289\n",
      "  (0, 80)\t0.137863552511\n",
      "  (0, 31)\t0.0939876878729\n",
      "  (0, 24)\t0.0791696955562\n",
      "  (0, 263)\t0.139340845051\n",
      "  (0, 616)\t0.0971066083855\n",
      "  (0, 796)\t0.0946902435652\n",
      "  (0, 46)\t0.230092626547\n",
      "  (0, 242)\t0.0938884983857\n",
      "  (0, 890)\t0.205563664868\n",
      "  (0, 923)\t0.156071440997\n",
      "  (0, 26)\t0.085197028909\n",
      "  (0, 395)\t0.226496827186\n",
      "  (0, 844)\t0.138632543895\n",
      "  (0, 785)\t0.17581975964\n",
      "  (0, 98)\t0.0867664708053\n",
      "  (0, 960)\t0.170893610946\n",
      "  (0, 281)\t0.206862839258\n",
      "  (0, 591)\t0.164520445882\n",
      "  (0, 321)\t0.0988950410533\n",
      "  (0, 94)\t0.0719116061705\n",
      "  (0, 382)\t0.0924343944618\n",
      "  (0, 318)\t0.230689039315\n",
      "  (0, 654)\t0.208724455723\n",
      "  (0, 985)\t0.149218486031\n",
      "  (0, 634)\t0.137504053122\n",
      "  (0, 708)\t0.19060843773\n",
      "  (0, 966)\t0.0548912225715\n",
      "  (0, 886)\t0.155459309567\n",
      "  (0, 584)\t0.122673219235\n",
      "  (0, 57)\t0.107465596817\n",
      "  (0, 320)\t0.127652731402\n",
      "  (0, 990)\t0.134429077294\n",
      "  (0, 286)\t0.146501348201\n",
      "  (0, 553)\t0.0686501255997\n",
      "  (0, 66)\t0.132480744131\n",
      "  (0, 901)\t0.157329820978\n",
      "  (0, 608)\t0.255235442372\n",
      "  (0, 529)\t0.0639902858028\n",
      "  (0, 780)\t0.116794638723\n",
      "  (0, 369)\t0.162805290446\n",
      "  (0, 683)\t0.0613818227654\n"
     ]
    }
   ],
   "source": [
    "# The tf-idf values for words in the first review that are among the top 1000 features is sparse matrix format\n",
    "print(proc_text[0])"
   ]
  },
  {
   "cell_type": "markdown",
   "metadata": {},
   "source": [
    "Returning the original words that ended up in the final 1000 words for a particular comment can still be accomplished by the following two steps:\n",
    "+ Find the index of the top 1000 features returned from the 'chi2score' transformation\n",
    "+ Find the 'feature names', i.e. the words from the original text"
   ]
  },
  {
   "cell_type": "code",
   "execution_count": 48,
   "metadata": {},
   "outputs": [],
   "source": [
    "# proc_fit.named_steps['chi2score'].get_support(indices=True)"
   ]
  },
  {
   "cell_type": "code",
   "execution_count": 49,
   "metadata": {},
   "outputs": [
    {
     "data": {
      "text/plain": [
       "23078"
      ]
     },
     "execution_count": 49,
     "metadata": {},
     "output_type": "execute_result"
    }
   ],
   "source": [
    "proc_fit.named_steps['chi2score'].get_support(indices=True)[616]"
   ]
  },
  {
   "cell_type": "code",
   "execution_count": 50,
   "metadata": {},
   "outputs": [
    {
     "data": {
      "text/plain": [
       "'music'"
      ]
     },
     "execution_count": 50,
     "metadata": {},
     "output_type": "execute_result"
    }
   ],
   "source": [
    "proc_fit.named_steps['count vectorizer'].get_feature_names()[23078]"
   ]
  },
  {
   "cell_type": "code",
   "execution_count": 51,
   "metadata": {},
   "outputs": [
    {
     "name": "stdout",
     "output_type": "stream",
     "text": [
      "plot : two teen couples go to a church party , drink and then drive . \n",
      "they get into an accident . \n",
      "one of the guys dies , but his girlfriend continues to see him in her life , and has nightmares . \n",
      "what's the deal ? \n",
      "watch the movie and \" sorta \" find out . . . \n",
      "critique : a mind-fuck movie for the teen generation that touches on a very cool idea , but presents it in a very bad package . \n",
      "which is what makes this review an even harder one to write , since i generally applaud films which attempt to break the mold , mess with your head and such ( lost highway & memento ) , but there are good and bad ways of making all types of films , and these folks just didn't snag this one correctly . \n",
      "they seem to have taken this pretty neat concept , but executed it terribly . \n",
      "so what are the problems with the movie ? \n",
      "well , its main problem is that it's simply too jumbled . \n",
      "it starts off \" normal \" but then downshifts into this \" fantasy \" world in which you , as an audience member , have no idea what's going on . \n",
      "there are dreams , there are characters coming back from the dead , there are others who look like the dead , there are strange apparitions , there are disappearances , there are a looooot of chase scenes , there are tons of weird things that happen , and most of it is simply not explained . \n",
      "now i personally don't mind trying to unravel a film every now and then , but when all it does is give me the same clue over and over again , i get kind of fed up after a while , which is this film's biggest problem . \n",
      "it's obviously got this big secret to hide , but it seems to want to hide it completely until its final five minutes . \n",
      "and do they make things entertaining , thrilling or even engaging , in the meantime ? \n",
      "not really . \n",
      "the sad part is that the arrow and i both dig on flicks like this , so we actually figured most of it out by the half-way point , so all of the strangeness after that did start to make a little bit of sense , but it still didn't the make the film all that more entertaining . \n",
      "i guess the bottom line with movies like this is that you should always make sure that the audience is \" into it \" even before they are given the secret password to enter your world of understanding . \n",
      "i mean , showing melissa sagemiller running away from visions for about 20 minutes throughout the movie is just plain lazy ! ! \n",
      "okay , we get it . . . there \n",
      "are people chasing her and we don't know who they are . \n",
      "do we really need to see it over and over again ? \n",
      "how about giving us different scenes offering further insight into all of the strangeness going down in the movie ? \n",
      "apparently , the studio took this film away from its director and chopped it up themselves , and it shows . \n",
      "there might've been a pretty decent teen mind-fuck movie in here somewhere , but i guess \" the suits \" decided that turning it into a music video with little edge , would make more sense . \n",
      "the actors are pretty good for the most part , although wes bentley just seemed to be playing the exact same character that he did in american beauty , only in a new neighborhood . \n",
      "but my biggest kudos go out to sagemiller , who holds her own throughout the entire film , and actually has you feeling her character's unraveling . \n",
      "overall , the film doesn't stick because it doesn't entertain , it's confusing , it rarely excites and it feels pretty redundant for most of its runtime , despite a pretty cool ending and explanation to all of the craziness that came before it . \n",
      "oh , and by the way , this is not a horror or teen slasher flick . . . it's \n",
      "just packaged to look that way because someone is apparently assuming that the genre is still hot with the kids . \n",
      "it also wrapped production two years ago and has been sitting on the shelves ever since . \n",
      "whatever . . . skip \n",
      "it ! \n",
      "where's joblo coming from ? \n",
      "a nightmare of elm street 3 ( 7/10 ) - blair witch 2 ( 7/10 ) - the crow ( 9/10 ) - the crow : salvation ( 4/10 ) - lost highway ( 10/10 ) - memento ( 10/10 ) - the others ( 9/10 ) - stir of echoes ( 8/10 ) \n",
      "\n"
     ]
    }
   ],
   "source": [
    "print(reviews.iloc[0,0])"
   ]
  },
  {
   "cell_type": "markdown",
   "metadata": {},
   "source": [
    "#### Old Pipeline 1"
   ]
  },
  {
   "cell_type": "code",
   "execution_count": null,
   "metadata": {
    "collapsed": true
   },
   "outputs": [],
   "source": [
    "chi2(X_res,y_res)\n",
    "\n",
    "k=1000\n",
    "\n",
    "ch2_score = SelectKBest(chi2, k=k)\n",
    "\n",
    "toxic_feature_tran = ch2_score.fit(X,y)\n",
    "\n",
    "X_train_k = ch2_score.fit_transform(X, y)\n",
    "\n",
    "X_test_k = ch2_score.transform(X_test)"
   ]
  },
  {
   "cell_type": "markdown",
   "metadata": {},
   "source": [
    "#### Old Pipeline 2"
   ]
  },
  {
   "cell_type": "code",
   "execution_count": 22,
   "metadata": {
    "collapsed": true
   },
   "outputs": [],
   "source": [
    "count_vect = CountVectorizer(stop_words=mystopwords,lowercase=True)\n",
    "\n",
    "X_train_counts = count_vect.fit_transform(X)\n",
    "\n",
    "tf_transformer = TfidfTransformer(use_idf=True).fit(X_train_counts)\n",
    "X_train_tfidf = tf_transformer.transform(X_train_counts)"
   ]
  }
 ],
 "metadata": {
  "kernelspec": {
   "display_name": "Python 3",
   "language": "python",
   "name": "python3"
  },
  "language_info": {
   "codemirror_mode": {
    "name": "ipython",
    "version": 3
   },
   "file_extension": ".py",
   "mimetype": "text/x-python",
   "name": "python",
   "nbconvert_exporter": "python",
   "pygments_lexer": "ipython3",
   "version": "3.6.3"
  }
 },
 "nbformat": 4,
 "nbformat_minor": 2
}
